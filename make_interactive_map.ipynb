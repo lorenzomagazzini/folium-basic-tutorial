{
 "cells": [
  {
   "cell_type": "markdown",
   "metadata": {},
   "source": [
    "# Import Folium\n",
    "\n",
    "`folium` is a library combining the powerful **Python** ecosystem with the mapping strengths of the **Leaflet.js** library.\n",
    "\n",
    "More information and installation instructions are available on [GitHub](https://github.com/python-visualization/folium)."
   ]
  },
  {
   "cell_type": "code",
   "execution_count": 1,
   "metadata": {},
   "outputs": [],
   "source": [
    "import folium\n",
    "print(folium.__version__)"
   ]
  },
  {
   "cell_type": "markdown",
   "metadata": {},
   "source": [
    "# Create a base map\n",
    "\n",
    "First we define the location (latitude and longitude) of the area we want to look at.\n",
    "\n",
    "For example, a quick Google search tells us that the **coordinates of Fora's venue** are `51.524538` `-0.100565`.\n",
    "\n",
    "We decide that the **map tiles** should be displayed with `OpenStreetMap` layout, with an **initial zoom** value of `17`."
   ]
  },
  {
   "cell_type": "code",
   "execution_count": 2,
   "metadata": {},
   "outputs": [],
   "source": [
    "lat = 51.524538\n",
    "lon = -0.100565\n",
    "my_zoom = 17\n",
    "my_tiles = \"OpenStreetMap\"\n",
    "\n",
    "my_map = folium.Map(location=[lat, lon], tiles=my_tiles, zoom_start=my_zoom)"
   ]
  },
  {
   "cell_type": "markdown",
   "metadata": {},
   "source": [
    "# Visualise the map\n",
    "\n",
    "Ask Jupyter notebook for the object representation."
   ]
  },
  {
   "cell_type": "code",
   "execution_count": 3,
   "metadata": {},
   "outputs": [],
   "source": [
    "my_map"
   ]
  },
  {
   "cell_type": "markdown",
   "metadata": {},
   "source": [
    "# Define a location to pin on the map\n",
    "\n",
    "Let's say that we want to highlight Fora's location on the map. We can do this by **adding a Marker** to the existing map.\n",
    "\n",
    "We also want to make clear that we're pointing to Decoded's offices, so we can **use a customised icon**."
   ]
  },
  {
   "cell_type": "code",
   "execution_count": 4,
   "metadata": {},
   "outputs": [],
   "source": [
    "# create icon object\n",
    "my_icon = folium.Icon(icon='home', color='black', icon_color='yellow', prefix='glyphicon')\n",
    "\n",
    "# use the add_to method to add the Marker object to the map\n",
    "folium.Marker([lat, lon], icon=my_icon).add_to(my_map)\n",
    "\n",
    "my_map"
   ]
  },
  {
   "cell_type": "markdown",
   "metadata": {},
   "source": [
    "# Add custom information as a pop-up\n",
    "\n",
    "To make sure nobody misses out on the social event, we **add a second marker** indicating the location of the drinks venue.\n",
    "\n",
    "To remind everyone about the scheduled time, we **create an interactive pop-up** displaying some additional information."
   ]
  },
  {
   "cell_type": "code",
   "execution_count": 5,
   "metadata": {},
   "outputs": [],
   "source": [
    "# Brewdog's location\n",
    "lat_brewdog = 51.522518\n",
    "lon_brewdog = -0.103782\n",
    "\n",
    "brewdog_icon = folium.Icon(icon='glass', color='blue', icon_color='white', prefix='glyphicon')\n",
    "folium.Marker([lat_brewdog, lon_brewdog],\n",
    "              icon=brewdog_icon,\n",
    "              tooltip='More info here!',\n",
    "              popup='<b>Drinks at Brewdog!</b> </br> Starting at 5:30 pm.' # let's throw in a bit of HTML\n",
    "             ).add_to(my_map)\n",
    "\n",
    "my_map.zoom_start = 16 # adjust zoom\n",
    "my_map"
   ]
  },
  {
   "cell_type": "markdown",
   "metadata": {},
   "source": [
    "# Export map\n",
    "\n",
    "Export the map as an HTML file that can be opened in the browser."
   ]
  },
  {
   "cell_type": "code",
   "execution_count": 6,
   "metadata": {},
   "outputs": [],
   "source": [
    "my_map.save('interactive_map.html')"
   ]
  },
  {
   "cell_type": "code",
   "execution_count": 7,
   "metadata": {},
   "outputs": [],
   "source": [
    "del(my_map)"
   ]
  },
  {
   "cell_type": "markdown",
   "metadata": {},
   "source": [
    "## Exercise 1.\n",
    "\n",
    "_I find the style of Open Street Maps confusing, I prefer a cleaner layout._\n",
    "\n",
    "Assign `\"cartodbpositron\"` to argument `tiles` and reload the map."
   ]
  },
  {
   "cell_type": "markdown",
   "metadata": {},
   "source": [
    "## Exercise 2.\n",
    "\n",
    "_I noticed that Decoded's colour scheme on the marker is inverted (yellow on black). I want to display it black on yellow._\n",
    "\n",
    "Call `help(folium.Icon)` to access Folium's documentation."
   ]
  },
  {
   "cell_type": "markdown",
   "metadata": {},
   "source": [
    "## Exercise 3.\n",
    "\n",
    "_I want to do many more powerful things._\n",
    "\n",
    "Check out [Folium's quick start guide](https://python-visualization.github.io/folium/quickstart.html) and [example notebooks on GitHub](https://github.com/python-visualization/folium)."
   ]
  },
  {
   "cell_type": "code",
   "execution_count": null,
   "metadata": {},
   "outputs": [],
   "source": []
  }
 ],
 "metadata": {
  "kernelspec": {
   "display_name": "Python (osmnx_env)",
   "language": "python",
   "name": "osmnx_env"
  },
  "language_info": {
   "codemirror_mode": {
    "name": "ipython",
    "version": 3
   },
   "file_extension": ".py",
   "mimetype": "text/x-python",
   "name": "python",
   "nbconvert_exporter": "python",
   "pygments_lexer": "ipython3",
   "version": "3.6.6"
  }
 },
 "nbformat": 4,
 "nbformat_minor": 2
}
